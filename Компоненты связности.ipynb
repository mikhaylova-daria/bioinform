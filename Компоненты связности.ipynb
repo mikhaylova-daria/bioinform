{
 "cells": [
  {
   "cell_type": "code",
   "execution_count": 1,
   "metadata": {},
   "outputs": [],
   "source": [
    "#путь к данным\n",
    "path = './data/server3.lpm.org.ru/~baulin/mmCIF/out/'"
   ]
  },
  {
   "cell_type": "markdown",
   "metadata": {},
   "source": [
    "# Получаем список нужных файлов и цепей из NR-списка"
   ]
  },
  {
   "cell_type": "code",
   "execution_count": 2,
   "metadata": {},
   "outputs": [],
   "source": [
    "#NR-лист\n",
    "filter_data = open('./data/nrlist_3.36_all.csv')\n",
    "\n",
    "filter_outfile = [] \n",
    "for i, line in enumerate(filter_data):\n",
    "    class_ = line.split('\\\",\\\"')[1].split('+')\n",
    "    filter_outfile += class_\n",
    "\n",
    "filter_data.close()\n"
   ]
  },
  {
   "cell_type": "code",
   "execution_count": 3,
   "metadata": {},
   "outputs": [],
   "source": [
    "files_chains = {}\n",
    "for class_ in filter_outfile:\n",
    "    class_ = class_.split('|')\n",
    "    file_name = class_[0].lower() + '.out' + class_[1].strip()\n",
    "    if file_name not in files_chains:\n",
    "        files_chains[file_name] = []\n",
    "    files_chains[file_name].append(class_[2])"
   ]
  },
  {
   "cell_type": "code",
   "execution_count": 4,
   "metadata": {},
   "outputs": [
    {
     "name": "stdout",
     "output_type": "stream",
     "text": [
      "2mfc.out1 ['B']\n",
      "1zig.out1 ['A']\n",
      "4k4s.out1 ['B', 'F', 'C', 'G', 'D', 'H']\n",
      "5dno.out1 ['B']\n",
      "5x3z.out1 ['B']\n",
      "3cjz.out1 ['A', 'B']\n",
      "1arj.out7 ['N']\n"
     ]
    }
   ],
   "source": [
    "#смотрим, норм ли напарсили\n",
    "for i, x in enumerate(files_chains):\n",
    "    print x, files_chains[x]\n",
    "    if i>5:\n",
    "        break"
   ]
  },
  {
   "cell_type": "markdown",
   "metadata": {},
   "source": [
    "# Строим набор компонент связности по файлу"
   ]
  },
  {
   "cell_type": "code",
   "execution_count": 5,
   "metadata": {},
   "outputs": [],
   "source": [
    "#пример данных: файл + список цепей\n",
    "\n",
    "data = open(path +'4v6u.out1').read()\n",
    "chains =  ['A2', 'A0', 'A1', 'B3', 'B1']"
   ]
  },
  {
   "cell_type": "code",
   "execution_count": 6,
   "metadata": {},
   "outputs": [],
   "source": [
    "import re\n",
    "stem_re  = r'List of (\\d+) stems'\n",
    "stack_re = r'List of (\\d+) stacks'\n",
    "neighbor_re = r'Summary of structural features of (\\d+) nucleotides'"
   ]
  },
  {
   "cell_type": "code",
   "execution_count": 7,
   "metadata": {},
   "outputs": [],
   "source": [
    "#Достаем ребра из блока 'List of (\\d+) stems'\n",
    "m_stem = re.search(stem_re, data)\n",
    "data_stems = data[m_stem.end():].split('****************************************************************************')[0]\n",
    "stems = data_stems.split('--------------------------------------------------------------------------')\n",
    "stems_output = []\n",
    "for stem in stems:\n",
    "    stack1 = []\n",
    "    stack2 = []\n",
    "    for line in stem.split('\\n'):\n",
    "        line = line.split()\n",
    "        if len(line) > 0:\n",
    "            if line[0].isdigit():\n",
    "                stack1.append(line[1])\n",
    "                stack2.append(line[2])\n",
    "    for i in range(len(stack1)-1):\n",
    "        stems_output.append({'edge':(stack1[i], stack1[i+1]), 'type':'stem'} )\n",
    "    for i in range(len(stack2)-1):\n",
    "        stems_output.append({'edge':(stack2[i], stack2[i+1]), 'type':'stem'})"
   ]
  },
  {
   "cell_type": "code",
   "execution_count": 8,
   "metadata": {},
   "outputs": [],
   "source": [
    "#Достаем ребра из блока 'List of (\\d+) stacks'\n",
    "m_stack = re.search(stack_re, data)\n",
    "data_stacks = data[m_stack.end():].split('****************************************************************************')[0]\n",
    "stacks_output = []\n",
    "for stack in data_stacks.split('\\n'):\n",
    "    stack = stack.strip().split()\n",
    "    if len(stack)>0:\n",
    "        if stack[0].isdigit():\n",
    "            stack = stack[3].split(',')\n",
    "            for i in range(len(stack)-1):\n",
    "                stacks_output.append({'edge':(stack[i], stack[i+1]), 'type':'stack'} )"
   ]
  },
  {
   "cell_type": "code",
   "execution_count": 9,
   "metadata": {},
   "outputs": [],
   "source": [
    "#Достаем ребра из блока 'Summary of structural features of (\\d+) nucleotides'\n",
    "m_neighbor = re.search(neighbor_re, data) \n",
    "data_neighbors = data[m_neighbor.end():].split('****************************************************************************')[0]\n",
    "neighbor_output = []\n",
    "last_item = None\n",
    "for stack in data_neighbors.split('\\n'):\n",
    "    stack = stack.strip().split()\n",
    "    if len(stack)>0:\n",
    "        if stack[0].isdigit():\n",
    "            if last_item is None:\n",
    "                last_item = stack[3]\n",
    "            else:\n",
    "                if last_item.split('.')[:-3]==stack[3].split('.')[:-3]:\n",
    "                    neighbor_output.append({'edge':( last_item, stack[3]), 'type':'neighbor'} )\n",
    "                    last_item = stack[3]\n",
    "                else:\n",
    "                    last_item = stack[3]"
   ]
  },
  {
   "cell_type": "code",
   "execution_count": 10,
   "metadata": {},
   "outputs": [],
   "source": [
    "#Все ребра между нуклеотидами (без связей внутри А-минора)\n",
    "edges = stacks_output+stems_output + neighbor_output"
   ]
  },
  {
   "cell_type": "code",
   "execution_count": 11,
   "metadata": {},
   "outputs": [],
   "source": [
    "#Достаем А-миноры 'List of (\\d+) A-minor motifs'\n",
    "a_minor_re = r'List of (\\d+) A-minor motifs'\n",
    "m_a_minor = re.search(a_minor_re, data) \n",
    "a_minor_data = data[m_a_minor.end():].split('****************************************************************************')[0]\n",
    "\n",
    "a_minors = {}\n",
    "a_minor_vert = set()\n",
    "last_item = None\n",
    "for stack in a_minor_data.split('\\n'):\n",
    "    stack = stack.strip().split()\n",
    "    if len(stack)>0:\n",
    "        if stack[0].isdigit():\n",
    "            if stack[3].split('.')[2] in chains:\n",
    "                a_minor_vert.add(stack[3])\n",
    "            f_stack, mid_stack = stack[3].split('|')\n",
    "            s_stack, th_stack  = mid_stack.split(',')\n",
    "            if f_stack not in a_minors:\n",
    "                a_minors[f_stack] = []\n",
    "            a_minors[f_stack].append(stack[3])\n",
    "            if s_stack not in a_minors:\n",
    "                a_minors[s_stack] = []\n",
    "            a_minors[s_stack].append(stack[3])\n",
    "            if th_stack not in a_minors:\n",
    "                a_minors[th_stack] = []\n",
    "            a_minors[th_stack].append(stack[3])"
   ]
  },
  {
   "cell_type": "code",
   "execution_count": 12,
   "metadata": {},
   "outputs": [],
   "source": [
    "#Матрица смежности А-миноров\n",
    "\n",
    "matrix = {}\n",
    "for i, x in enumerate(a_minor_vert):\n",
    "    matrix[x]={}\n",
    "    for y in a_minor_vert:\n",
    "        if x<y:\n",
    "            matrix[x][y]=[]"
   ]
  },
  {
   "cell_type": "code",
   "execution_count": 13,
   "metadata": {},
   "outputs": [
    {
     "name": "stdout",
     "output_type": "stream",
     "text": [
      "534\n"
     ]
    }
   ],
   "source": [
    "#связь между А-минорами по общим нуклеотидам\n",
    "for c in a_minors:\n",
    "    if len(a_minors[c])>1:\n",
    "        for i in range(len(a_minors[c])):\n",
    "            for j in range(len(a_minors[c])):\n",
    "                if a_minors[c][i]<a_minors[c][j]:\n",
    "                    matrix[a_minors[c][i]][a_minors[c][j]].append('a_minor_'+c)\n",
    "print len(a_minors)"
   ]
  },
  {
   "cell_type": "code",
   "execution_count": 14,
   "metadata": {},
   "outputs": [],
   "source": [
    "for e in edges:\n",
    "    a, b = min(e['edge']), max(e['edge'])\n",
    "    if a in a_minors and b in a_minors:\n",
    "        for x in a_minors[a]:\n",
    "            for y in a_minors[b]:\n",
    "                if x < y:\n",
    "                    matrix[x][y].append(e['type']+'_'+a+'_'+b)\n",
    "                if x>y:\n",
    "                    matrix[y][x].append(e['type']+'_'+a+'_'+b)"
   ]
  },
  {
   "cell_type": "code",
   "execution_count": 15,
   "metadata": {},
   "outputs": [],
   "source": [
    "for x in matrix:\n",
    "    for y in matrix:\n",
    "        if x < y:\n",
    "            matrix[y][x]=matrix[x][y]\n",
    "    matrix[x][x]=[]"
   ]
  },
  {
   "cell_type": "markdown",
   "metadata": {},
   "source": [
    "# Связность компонент"
   ]
  },
  {
   "cell_type": "code",
   "execution_count": 16,
   "metadata": {},
   "outputs": [],
   "source": [
    "\n",
    "def sub_dfs(u, matrix, visited, component):\n",
    "    visited[u] = True\n",
    "    for v in matrix[u]:\n",
    "        if len(matrix[u][v])>0:\n",
    "            component.append({'edge': (u, v), 'links': matrix[u][v]})\n",
    "            if not visited[v]:\n",
    "                sub_dfs(v, matrix, visited, component)\n",
    "\n",
    "def dfs(matrix):\n",
    "    text=[]\n",
    "    components = []\n",
    "    visited = {ver:False for ver in matrix}\n",
    "    component = []\n",
    "    for v in matrix:            \n",
    "        if not visited[v]: \n",
    "            if len(component) > 0:\n",
    "                components.append(component)\n",
    "            component = []\n",
    "            sub_dfs(v, matrix, visited, component)\n",
    "    for x in components:\n",
    "        text.append(str(x))\n",
    "    return '\\n'.join(text)\n",
    "    "
   ]
  },
  {
   "cell_type": "code",
   "execution_count": 18,
   "metadata": {},
   "outputs": [],
   "source": [
    "f = open('data_sample_1', 'w')\n",
    "f.write(dfs(matrix))\n",
    "f.close()"
   ]
  },
  {
   "cell_type": "code",
   "execution_count": null,
   "metadata": {},
   "outputs": [],
   "source": []
  }
 ],
 "metadata": {
  "anaconda-cloud": {},
  "kernelspec": {
   "display_name": "Python [conda env:anaconda2]",
   "language": "python",
   "name": "conda-env-anaconda2-py"
  },
  "language_info": {
   "codemirror_mode": {
    "name": "ipython",
    "version": 2
   },
   "file_extension": ".py",
   "mimetype": "text/x-python",
   "name": "python",
   "nbconvert_exporter": "python",
   "pygments_lexer": "ipython2",
   "version": "2.7.13"
  }
 },
 "nbformat": 4,
 "nbformat_minor": 2
}
